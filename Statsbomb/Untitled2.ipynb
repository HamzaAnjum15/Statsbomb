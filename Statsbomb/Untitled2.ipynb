{
 "cells": [
  {
   "cell_type": "code",
   "execution_count": 1,
   "id": "d5ce4fea",
   "metadata": {
    "scrolled": true
   },
   "outputs": [
    {
     "name": "stdout",
     "output_type": "stream",
     "text": [
      "Requirement already satisfied: statsbombpy in d:\\users\\dell\\anaconda3\\lib\\site-packages (1.13.1)\n",
      "Requirement already satisfied: mplsoccer in d:\\users\\dell\\anaconda3\\lib\\site-packages (1.3.0)\n",
      "Requirement already satisfied: pandas in d:\\users\\dell\\anaconda3\\lib\\site-packages (from statsbombpy) (1.3.4)\n",
      "Requirement already satisfied: requests in d:\\users\\dell\\anaconda3\\lib\\site-packages (from statsbombpy) (2.26.0)\n",
      "Requirement already satisfied: joblib in d:\\users\\dell\\anaconda3\\lib\\site-packages (from statsbombpy) (1.1.0)\n",
      "Requirement already satisfied: requests-cache in d:\\users\\dell\\anaconda3\\lib\\site-packages (from statsbombpy) (1.2.1)\n",
      "Requirement already satisfied: inflect in d:\\users\\dell\\anaconda3\\lib\\site-packages (from statsbombpy) (7.3.1)\n",
      "Requirement already satisfied: scipy in d:\\users\\dell\\anaconda3\\lib\\site-packages (from mplsoccer) (1.13.1)\n",
      "Requirement already satisfied: seaborn in d:\\users\\dell\\anaconda3\\lib\\site-packages (from mplsoccer) (0.11.2)\n",
      "Requirement already satisfied: numpy in d:\\users\\dell\\anaconda3\\lib\\site-packages (from mplsoccer) (2.0.1)\n",
      "Requirement already satisfied: pillow in d:\\users\\dell\\anaconda3\\lib\\site-packages (from mplsoccer) (8.4.0)\n",
      "Requirement already satisfied: matplotlib>=3.6 in d:\\users\\dell\\anaconda3\\lib\\site-packages (from mplsoccer) (3.9.1.post1)\n",
      "Requirement already satisfied: python-dateutil>=2.7 in d:\\users\\dell\\anaconda3\\lib\\site-packages (from matplotlib>=3.6->mplsoccer) (2.8.2)\n",
      "Requirement already satisfied: fonttools>=4.22.0 in d:\\users\\dell\\anaconda3\\lib\\site-packages (from matplotlib>=3.6->mplsoccer) (4.25.0)\n",
      "Requirement already satisfied: packaging>=20.0 in d:\\users\\dell\\anaconda3\\lib\\site-packages (from matplotlib>=3.6->mplsoccer) (21.0)\n",
      "Requirement already satisfied: cycler>=0.10 in d:\\users\\dell\\anaconda3\\lib\\site-packages (from matplotlib>=3.6->mplsoccer) (0.10.0)\n",
      "Requirement already satisfied: importlib-resources>=3.2.0 in d:\\users\\dell\\anaconda3\\lib\\site-packages (from matplotlib>=3.6->mplsoccer) (6.4.0)\n",
      "Requirement already satisfied: kiwisolver>=1.3.1 in d:\\users\\dell\\anaconda3\\lib\\site-packages (from matplotlib>=3.6->mplsoccer) (1.3.1)\n",
      "Requirement already satisfied: pyparsing>=2.3.1 in d:\\users\\dell\\anaconda3\\lib\\site-packages (from matplotlib>=3.6->mplsoccer) (3.0.4)\n",
      "Requirement already satisfied: contourpy>=1.0.1 in d:\\users\\dell\\anaconda3\\lib\\site-packages (from matplotlib>=3.6->mplsoccer) (1.2.1)\n",
      "Requirement already satisfied: six in d:\\users\\dell\\anaconda3\\lib\\site-packages (from cycler>=0.10->matplotlib>=3.6->mplsoccer) (1.16.0)\n",
      "Requirement already satisfied: zipp>=3.1.0 in d:\\users\\dell\\anaconda3\\lib\\site-packages (from importlib-resources>=3.2.0->matplotlib>=3.6->mplsoccer) (3.6.0)\n",
      "Requirement already satisfied: more-itertools>=8.5.0 in d:\\users\\dell\\anaconda3\\lib\\site-packages (from inflect->statsbombpy) (8.10.0)\n",
      "Requirement already satisfied: typeguard>=4.0.1 in d:\\users\\dell\\anaconda3\\lib\\site-packages (from inflect->statsbombpy) (4.3.0)\n",
      "Requirement already satisfied: typing-extensions>=4.10.0 in d:\\users\\dell\\anaconda3\\lib\\site-packages (from typeguard>=4.0.1->inflect->statsbombpy) (4.12.2)\n",
      "Requirement already satisfied: importlib-metadata>=3.6 in d:\\users\\dell\\anaconda3\\lib\\site-packages (from typeguard>=4.0.1->inflect->statsbombpy) (4.8.1)\n",
      "Requirement already satisfied: pytz>=2017.3 in d:\\users\\dell\\anaconda3\\lib\\site-packages (from pandas->statsbombpy) (2021.3)\n",
      "Requirement already satisfied: urllib3<1.27,>=1.21.1 in d:\\users\\dell\\anaconda3\\lib\\site-packages (from requests->statsbombpy) (1.26.7)\n",
      "Requirement already satisfied: idna<4,>=2.5 in d:\\users\\dell\\anaconda3\\lib\\site-packages (from requests->statsbombpy) (3.2)\n",
      "Requirement already satisfied: charset-normalizer~=2.0.0 in d:\\users\\dell\\anaconda3\\lib\\site-packages (from requests->statsbombpy) (2.0.4)\n",
      "Requirement already satisfied: certifi>=2017.4.17 in d:\\users\\dell\\anaconda3\\lib\\site-packages (from requests->statsbombpy) (2021.10.8)\n",
      "Requirement already satisfied: url-normalize>=1.4 in d:\\users\\dell\\anaconda3\\lib\\site-packages (from requests-cache->statsbombpy) (1.4.3)\n",
      "Requirement already satisfied: cattrs>=22.2 in d:\\users\\dell\\anaconda3\\lib\\site-packages (from requests-cache->statsbombpy) (23.2.3)\n",
      "Requirement already satisfied: platformdirs>=2.5 in d:\\users\\dell\\anaconda3\\lib\\site-packages (from requests-cache->statsbombpy) (4.2.2)\n",
      "Requirement already satisfied: attrs>=21.2 in d:\\users\\dell\\anaconda3\\lib\\site-packages (from requests-cache->statsbombpy) (24.2.0)\n",
      "Requirement already satisfied: exceptiongroup>=1.1.1 in d:\\users\\dell\\anaconda3\\lib\\site-packages (from cattrs>=22.2->requests-cache->statsbombpy) (1.2.2)\n"
     ]
    }
   ],
   "source": [
    "!pip install statsbombpy mplsoccer"
   ]
  },
  {
   "cell_type": "code",
   "execution_count": 3,
   "id": "f3493dce",
   "metadata": {},
   "outputs": [
    {
     "name": "stdout",
     "output_type": "stream",
     "text": [
      "Requirement already satisfied: numpy in d:\\users\\dell\\anaconda3\\lib\\site-packages (2.0.1)\n",
      "Requirement already satisfied: scipy in d:\\users\\dell\\anaconda3\\lib\\site-packages (1.13.1)\n",
      "Requirement already satisfied: matplotlib in d:\\users\\dell\\anaconda3\\lib\\site-packages (3.9.1.post1)\n",
      "Requirement already satisfied: pyparsing>=2.3.1 in d:\\users\\dell\\anaconda3\\lib\\site-packages (from matplotlib) (3.0.4)\n",
      "Requirement already satisfied: python-dateutil>=2.7 in d:\\users\\dell\\anaconda3\\lib\\site-packages (from matplotlib) (2.8.2)\n",
      "Requirement already satisfied: importlib-resources>=3.2.0 in d:\\users\\dell\\anaconda3\\lib\\site-packages (from matplotlib) (6.4.0)\n",
      "Requirement already satisfied: fonttools>=4.22.0 in d:\\users\\dell\\anaconda3\\lib\\site-packages (from matplotlib) (4.25.0)\n",
      "Requirement already satisfied: packaging>=20.0 in d:\\users\\dell\\anaconda3\\lib\\site-packages (from matplotlib) (21.0)\n",
      "Requirement already satisfied: cycler>=0.10 in d:\\users\\dell\\anaconda3\\lib\\site-packages (from matplotlib) (0.10.0)\n",
      "Requirement already satisfied: contourpy>=1.0.1 in d:\\users\\dell\\anaconda3\\lib\\site-packages (from matplotlib) (1.2.1)\n",
      "Requirement already satisfied: pillow>=8 in d:\\users\\dell\\anaconda3\\lib\\site-packages (from matplotlib) (8.4.0)\n",
      "Requirement already satisfied: kiwisolver>=1.3.1 in d:\\users\\dell\\anaconda3\\lib\\site-packages (from matplotlib) (1.3.1)\n",
      "Requirement already satisfied: six in d:\\users\\dell\\anaconda3\\lib\\site-packages (from cycler>=0.10->matplotlib) (1.16.0)\n",
      "Requirement already satisfied: zipp>=3.1.0 in d:\\users\\dell\\anaconda3\\lib\\site-packages (from importlib-resources>=3.2.0->matplotlib) (3.6.0)\n"
     ]
    }
   ],
   "source": [
    "!pip install --upgrade numpy scipy matplotlib\n"
   ]
  },
  {
   "cell_type": "code",
   "execution_count": 5,
   "id": "5365f2c9",
   "metadata": {},
   "outputs": [
    {
     "name": "stdout",
     "output_type": "stream",
     "text": [
      "Found existing installation: numpy 2.0.1\n",
      "Uninstalling numpy-2.0.1:\n",
      "  Successfully uninstalled numpy-2.0.1\n"
     ]
    },
    {
     "name": "stderr",
     "output_type": "stream",
     "text": [
      "ERROR: Exception:\n",
      "Traceback (most recent call last):\n",
      "  File \"D:\\Users\\dell\\anaconda3\\lib\\site-packages\\pip\\_internal\\cli\\base_command.py\", line 173, in _main\n",
      "    status = self.run(options, args)\n",
      "  File \"D:\\Users\\dell\\anaconda3\\lib\\site-packages\\pip\\_internal\\commands\\uninstall.py\", line 97, in run\n",
      "    uninstall_pathset.commit()\n",
      "  File \"D:\\Users\\dell\\anaconda3\\lib\\site-packages\\pip\\_internal\\req\\req_uninstall.py\", line 436, in commit\n",
      "    self._moved_paths.commit()\n",
      "  File \"D:\\Users\\dell\\anaconda3\\lib\\site-packages\\pip\\_internal\\req\\req_uninstall.py\", line 287, in commit\n",
      "    save_dir.cleanup()\n",
      "  File \"D:\\Users\\dell\\anaconda3\\lib\\site-packages\\pip\\_internal\\utils\\temp_dir.py\", line 184, in cleanup\n",
      "    rmtree(self._path)\n",
      "  File \"D:\\Users\\dell\\anaconda3\\lib\\site-packages\\pip\\_vendor\\tenacity\\__init__.py\", line 326, in wrapped_f\n",
      "    return self(f, *args, **kw)\n",
      "  File \"D:\\Users\\dell\\anaconda3\\lib\\site-packages\\pip\\_vendor\\tenacity\\__init__.py\", line 406, in __call__\n",
      "    do = self.iter(retry_state=retry_state)\n",
      "  File \"D:\\Users\\dell\\anaconda3\\lib\\site-packages\\pip\\_vendor\\tenacity\\__init__.py\", line 362, in iter\n",
      "    raise retry_exc.reraise()\n",
      "  File \"D:\\Users\\dell\\anaconda3\\lib\\site-packages\\pip\\_vendor\\tenacity\\__init__.py\", line 195, in reraise\n",
      "    raise self.last_attempt.result()\n",
      "  File \"D:\\Users\\dell\\anaconda3\\lib\\concurrent\\futures\\_base.py\", line 438, in result\n",
      "    return self.__get_result()\n",
      "  File \"D:\\Users\\dell\\anaconda3\\lib\\concurrent\\futures\\_base.py\", line 390, in __get_result\n",
      "    raise self._exception\n",
      "  File \"D:\\Users\\dell\\anaconda3\\lib\\site-packages\\pip\\_vendor\\tenacity\\__init__.py\", line 409, in __call__\n",
      "    result = fn(*args, **kwargs)\n",
      "  File \"D:\\Users\\dell\\anaconda3\\lib\\site-packages\\pip\\_internal\\utils\\misc.py\", line 135, in rmtree\n",
      "    shutil.rmtree(dir, ignore_errors=ignore_errors, onerror=rmtree_errorhandler)\n",
      "  File \"D:\\Users\\dell\\anaconda3\\lib\\shutil.py\", line 748, in rmtree\n",
      "    return _rmtree_unsafe(path, onerror)\n",
      "  File \"D:\\Users\\dell\\anaconda3\\lib\\shutil.py\", line 626, in _rmtree_unsafe\n",
      "    onerror(os.unlink, fullname, sys.exc_info())\n",
      "  File \"D:\\Users\\dell\\anaconda3\\lib\\shutil.py\", line 624, in _rmtree_unsafe\n",
      "    os.unlink(fullname)\n",
      "PermissionError: [WinError 5] Access is denied: 'D:\\\\Users\\\\dell\\\\anaconda3\\\\Lib\\\\site-packages\\\\~umpy.libs\\\\libscipy_openblas64_-fb1711452d4d8cee9f276fd1449ee5c7.dll'\n"
     ]
    },
    {
     "name": "stdout",
     "output_type": "stream",
     "text": [
      "Collecting numpy\n"
     ]
    },
    {
     "name": "stderr",
     "output_type": "stream",
     "text": [
      "ERROR: pip's dependency resolver does not currently take into account all the packages that are installed. This behaviour is the source of the following dependency conflicts.\n",
      "daal4py 2021.3.0 requires daal==2021.2.3, which is not installed.\n",
      "numba 0.54.1 requires numpy<1.21,>=1.17, but you have numpy 2.0.1 which is incompatible.\n"
     ]
    },
    {
     "name": "stdout",
     "output_type": "stream",
     "text": [
      "  Using cached numpy-2.0.1-cp39-cp39-win_amd64.whl (16.6 MB)\n",
      "Requirement already satisfied: scipy in d:\\users\\dell\\anaconda3\\lib\\site-packages (1.13.1)\n",
      "Requirement already satisfied: matplotlib in d:\\users\\dell\\anaconda3\\lib\\site-packages (3.9.1.post1)\n",
      "Requirement already satisfied: mplsoccer in d:\\users\\dell\\anaconda3\\lib\\site-packages (1.3.0)\n",
      "Requirement already satisfied: contourpy>=1.0.1 in d:\\users\\dell\\anaconda3\\lib\\site-packages (from matplotlib) (1.2.1)\n",
      "Requirement already satisfied: importlib-resources>=3.2.0 in d:\\users\\dell\\anaconda3\\lib\\site-packages (from matplotlib) (6.4.0)\n",
      "Requirement already satisfied: fonttools>=4.22.0 in d:\\users\\dell\\anaconda3\\lib\\site-packages (from matplotlib) (4.25.0)\n",
      "Requirement already satisfied: kiwisolver>=1.3.1 in d:\\users\\dell\\anaconda3\\lib\\site-packages (from matplotlib) (1.3.1)\n",
      "Requirement already satisfied: cycler>=0.10 in d:\\users\\dell\\anaconda3\\lib\\site-packages (from matplotlib) (0.10.0)\n",
      "Requirement already satisfied: pyparsing>=2.3.1 in d:\\users\\dell\\anaconda3\\lib\\site-packages (from matplotlib) (3.0.4)\n",
      "Requirement already satisfied: python-dateutil>=2.7 in d:\\users\\dell\\anaconda3\\lib\\site-packages (from matplotlib) (2.8.2)\n",
      "Requirement already satisfied: packaging>=20.0 in d:\\users\\dell\\anaconda3\\lib\\site-packages (from matplotlib) (21.0)\n",
      "Requirement already satisfied: pillow>=8 in d:\\users\\dell\\anaconda3\\lib\\site-packages (from matplotlib) (8.4.0)\n",
      "Requirement already satisfied: requests in d:\\users\\dell\\anaconda3\\lib\\site-packages (from mplsoccer) (2.26.0)\n",
      "Requirement already satisfied: seaborn in d:\\users\\dell\\anaconda3\\lib\\site-packages (from mplsoccer) (0.11.2)\n",
      "Requirement already satisfied: pandas in d:\\users\\dell\\anaconda3\\lib\\site-packages (from mplsoccer) (1.3.4)\n",
      "Requirement already satisfied: six in d:\\users\\dell\\anaconda3\\lib\\site-packages (from cycler>=0.10->matplotlib) (1.16.0)\n",
      "Requirement already satisfied: zipp>=3.1.0 in d:\\users\\dell\\anaconda3\\lib\\site-packages (from importlib-resources>=3.2.0->matplotlib) (3.6.0)\n",
      "Requirement already satisfied: pytz>=2017.3 in d:\\users\\dell\\anaconda3\\lib\\site-packages (from pandas->mplsoccer) (2021.3)\n",
      "Requirement already satisfied: idna<4,>=2.5 in d:\\users\\dell\\anaconda3\\lib\\site-packages (from requests->mplsoccer) (3.2)\n",
      "Requirement already satisfied: charset-normalizer~=2.0.0 in d:\\users\\dell\\anaconda3\\lib\\site-packages (from requests->mplsoccer) (2.0.4)\n",
      "Requirement already satisfied: certifi>=2017.4.17 in d:\\users\\dell\\anaconda3\\lib\\site-packages (from requests->mplsoccer) (2021.10.8)\n",
      "Requirement already satisfied: urllib3<1.27,>=1.21.1 in d:\\users\\dell\\anaconda3\\lib\\site-packages (from requests->mplsoccer) (1.26.7)\n",
      "Installing collected packages: numpy\n",
      "Successfully installed numpy-2.0.1\n"
     ]
    }
   ],
   "source": [
    "!pip uninstall numpy scipy matplotlib mplsoccer -y\n",
    "!pip install numpy scipy matplotlib mplsoccer\n"
   ]
  },
  {
   "cell_type": "code",
   "execution_count": null,
   "id": "10c20dc3",
   "metadata": {},
   "outputs": [],
   "source": [
    "!conda update numpy scipy matplotlib"
   ]
  },
  {
   "cell_type": "code",
   "execution_count": 4,
   "id": "e8414dd4",
   "metadata": {},
   "outputs": [
    {
     "ename": "ValueError",
     "evalue": "numpy.dtype size changed, may indicate binary incompatibility. Expected 96 from C header, got 88 from PyObject",
     "output_type": "error",
     "traceback": [
      "\u001b[1;31m---------------------------------------------------------------------------\u001b[0m",
      "\u001b[1;31mValueError\u001b[0m                                Traceback (most recent call last)",
      "\u001b[1;32m~\\AppData\\Local\\Temp/ipykernel_7220/2056417831.py\u001b[0m in \u001b[0;36m<module>\u001b[1;34m\u001b[0m\n\u001b[1;32m----> 1\u001b[1;33m \u001b[1;32mfrom\u001b[0m \u001b[0mstatsbombpy\u001b[0m \u001b[1;32mimport\u001b[0m \u001b[0msb\u001b[0m\u001b[1;33m\u001b[0m\u001b[1;33m\u001b[0m\u001b[0m\n\u001b[0m\u001b[0;32m      2\u001b[0m \u001b[1;32mimport\u001b[0m \u001b[0mpandas\u001b[0m \u001b[1;32mas\u001b[0m \u001b[0mpd\u001b[0m\u001b[1;33m\u001b[0m\u001b[1;33m\u001b[0m\u001b[0m\n\u001b[0;32m      3\u001b[0m \u001b[1;32mimport\u001b[0m \u001b[0mmatplotlib\u001b[0m\u001b[1;33m.\u001b[0m\u001b[0mpyplot\u001b[0m \u001b[1;32mas\u001b[0m \u001b[0mplt\u001b[0m\u001b[1;33m\u001b[0m\u001b[1;33m\u001b[0m\u001b[0m\n\u001b[0;32m      4\u001b[0m \u001b[1;32mfrom\u001b[0m \u001b[0mmplsoccer\u001b[0m \u001b[1;32mimport\u001b[0m \u001b[0mPitch\u001b[0m\u001b[1;33m,\u001b[0m \u001b[0mFontManager\u001b[0m\u001b[1;33m\u001b[0m\u001b[1;33m\u001b[0m\u001b[0m\n\u001b[0;32m      5\u001b[0m \u001b[1;33m\u001b[0m\u001b[0m\n",
      "\u001b[1;32mD:\\Users\\dell\\anaconda3\\lib\\site-packages\\statsbombpy\\sb.py\u001b[0m in \u001b[0;36m<module>\u001b[1;34m\u001b[0m\n\u001b[0;32m      3\u001b[0m \u001b[1;32mfrom\u001b[0m \u001b[0mtyping\u001b[0m \u001b[1;32mimport\u001b[0m \u001b[0mUnion\u001b[0m\u001b[1;33m\u001b[0m\u001b[1;33m\u001b[0m\u001b[0m\n\u001b[0;32m      4\u001b[0m \u001b[1;33m\u001b[0m\u001b[0m\n\u001b[1;32m----> 5\u001b[1;33m \u001b[1;32mimport\u001b[0m \u001b[0mpandas\u001b[0m \u001b[1;32mas\u001b[0m \u001b[0mpd\u001b[0m\u001b[1;33m\u001b[0m\u001b[1;33m\u001b[0m\u001b[0m\n\u001b[0m\u001b[0;32m      6\u001b[0m \u001b[1;33m\u001b[0m\u001b[0m\n\u001b[0;32m      7\u001b[0m \u001b[1;32mfrom\u001b[0m \u001b[0mstatsbombpy\u001b[0m \u001b[1;32mimport\u001b[0m \u001b[0mapi_client\u001b[0m\u001b[1;33m,\u001b[0m \u001b[0mpublic\u001b[0m\u001b[1;33m\u001b[0m\u001b[1;33m\u001b[0m\u001b[0m\n",
      "\u001b[1;32mD:\\Users\\dell\\anaconda3\\lib\\site-packages\\pandas\\__init__.py\u001b[0m in \u001b[0;36m<module>\u001b[1;34m\u001b[0m\n\u001b[0;32m     20\u001b[0m \u001b[1;33m\u001b[0m\u001b[0m\n\u001b[0;32m     21\u001b[0m \u001b[1;31m# numpy compat\u001b[0m\u001b[1;33m\u001b[0m\u001b[1;33m\u001b[0m\u001b[0m\n\u001b[1;32m---> 22\u001b[1;33m from pandas.compat import (\n\u001b[0m\u001b[0;32m     23\u001b[0m     \u001b[0mnp_version_under1p18\u001b[0m \u001b[1;32mas\u001b[0m \u001b[0m_np_version_under1p18\u001b[0m\u001b[1;33m,\u001b[0m\u001b[1;33m\u001b[0m\u001b[1;33m\u001b[0m\u001b[0m\n\u001b[0;32m     24\u001b[0m     \u001b[0mis_numpy_dev\u001b[0m \u001b[1;32mas\u001b[0m \u001b[0m_is_numpy_dev\u001b[0m\u001b[1;33m,\u001b[0m\u001b[1;33m\u001b[0m\u001b[1;33m\u001b[0m\u001b[0m\n",
      "\u001b[1;32mD:\\Users\\dell\\anaconda3\\lib\\site-packages\\pandas\\compat\\__init__.py\u001b[0m in \u001b[0;36m<module>\u001b[1;34m\u001b[0m\n\u001b[0;32m     13\u001b[0m \u001b[1;33m\u001b[0m\u001b[0m\n\u001b[0;32m     14\u001b[0m \u001b[1;32mfrom\u001b[0m \u001b[0mpandas\u001b[0m\u001b[1;33m.\u001b[0m\u001b[0m_typing\u001b[0m \u001b[1;32mimport\u001b[0m \u001b[0mF\u001b[0m\u001b[1;33m\u001b[0m\u001b[1;33m\u001b[0m\u001b[0m\n\u001b[1;32m---> 15\u001b[1;33m from pandas.compat.numpy import (\n\u001b[0m\u001b[0;32m     16\u001b[0m     \u001b[0mis_numpy_dev\u001b[0m\u001b[1;33m,\u001b[0m\u001b[1;33m\u001b[0m\u001b[1;33m\u001b[0m\u001b[0m\n\u001b[0;32m     17\u001b[0m     \u001b[0mnp_array_datetime64_compat\u001b[0m\u001b[1;33m,\u001b[0m\u001b[1;33m\u001b[0m\u001b[1;33m\u001b[0m\u001b[0m\n",
      "\u001b[1;32mD:\\Users\\dell\\anaconda3\\lib\\site-packages\\pandas\\compat\\numpy\\__init__.py\u001b[0m in \u001b[0;36m<module>\u001b[1;34m\u001b[0m\n\u001b[0;32m      5\u001b[0m \u001b[1;32mimport\u001b[0m \u001b[0mnumpy\u001b[0m \u001b[1;32mas\u001b[0m \u001b[0mnp\u001b[0m\u001b[1;33m\u001b[0m\u001b[1;33m\u001b[0m\u001b[0m\n\u001b[0;32m      6\u001b[0m \u001b[1;33m\u001b[0m\u001b[0m\n\u001b[1;32m----> 7\u001b[1;33m \u001b[1;32mfrom\u001b[0m \u001b[0mpandas\u001b[0m\u001b[1;33m.\u001b[0m\u001b[0mutil\u001b[0m\u001b[1;33m.\u001b[0m\u001b[0mversion\u001b[0m \u001b[1;32mimport\u001b[0m \u001b[0mVersion\u001b[0m\u001b[1;33m\u001b[0m\u001b[1;33m\u001b[0m\u001b[0m\n\u001b[0m\u001b[0;32m      8\u001b[0m \u001b[1;33m\u001b[0m\u001b[0m\n\u001b[0;32m      9\u001b[0m \u001b[1;31m# numpy versioning\u001b[0m\u001b[1;33m\u001b[0m\u001b[1;33m\u001b[0m\u001b[0m\n",
      "\u001b[1;32mD:\\Users\\dell\\anaconda3\\lib\\site-packages\\pandas\\util\\__init__.py\u001b[0m in \u001b[0;36m<module>\u001b[1;34m\u001b[0m\n\u001b[1;32m----> 1\u001b[1;33m from pandas.util._decorators import (  # noqa\n\u001b[0m\u001b[0;32m      2\u001b[0m     \u001b[0mAppender\u001b[0m\u001b[1;33m,\u001b[0m\u001b[1;33m\u001b[0m\u001b[1;33m\u001b[0m\u001b[0m\n\u001b[0;32m      3\u001b[0m     \u001b[0mSubstitution\u001b[0m\u001b[1;33m,\u001b[0m\u001b[1;33m\u001b[0m\u001b[1;33m\u001b[0m\u001b[0m\n\u001b[0;32m      4\u001b[0m     \u001b[0mcache_readonly\u001b[0m\u001b[1;33m,\u001b[0m\u001b[1;33m\u001b[0m\u001b[1;33m\u001b[0m\u001b[0m\n\u001b[0;32m      5\u001b[0m )\n",
      "\u001b[1;32mD:\\Users\\dell\\anaconda3\\lib\\site-packages\\pandas\\util\\_decorators.py\u001b[0m in \u001b[0;36m<module>\u001b[1;34m\u001b[0m\n\u001b[0;32m     12\u001b[0m \u001b[1;32mimport\u001b[0m \u001b[0mwarnings\u001b[0m\u001b[1;33m\u001b[0m\u001b[1;33m\u001b[0m\u001b[0m\n\u001b[0;32m     13\u001b[0m \u001b[1;33m\u001b[0m\u001b[0m\n\u001b[1;32m---> 14\u001b[1;33m \u001b[1;32mfrom\u001b[0m \u001b[0mpandas\u001b[0m\u001b[1;33m.\u001b[0m\u001b[0m_libs\u001b[0m\u001b[1;33m.\u001b[0m\u001b[0mproperties\u001b[0m \u001b[1;32mimport\u001b[0m \u001b[0mcache_readonly\u001b[0m  \u001b[1;31m# noqa\u001b[0m\u001b[1;33m\u001b[0m\u001b[1;33m\u001b[0m\u001b[0m\n\u001b[0m\u001b[0;32m     15\u001b[0m \u001b[1;32mfrom\u001b[0m \u001b[0mpandas\u001b[0m\u001b[1;33m.\u001b[0m\u001b[0m_typing\u001b[0m \u001b[1;32mimport\u001b[0m \u001b[0mF\u001b[0m\u001b[1;33m\u001b[0m\u001b[1;33m\u001b[0m\u001b[0m\n\u001b[0;32m     16\u001b[0m \u001b[1;33m\u001b[0m\u001b[0m\n",
      "\u001b[1;32mD:\\Users\\dell\\anaconda3\\lib\\site-packages\\pandas\\_libs\\__init__.py\u001b[0m in \u001b[0;36m<module>\u001b[1;34m\u001b[0m\n\u001b[0;32m     11\u001b[0m \u001b[1;33m\u001b[0m\u001b[0m\n\u001b[0;32m     12\u001b[0m \u001b[1;33m\u001b[0m\u001b[0m\n\u001b[1;32m---> 13\u001b[1;33m \u001b[1;32mfrom\u001b[0m \u001b[0mpandas\u001b[0m\u001b[1;33m.\u001b[0m\u001b[0m_libs\u001b[0m\u001b[1;33m.\u001b[0m\u001b[0minterval\u001b[0m \u001b[1;32mimport\u001b[0m \u001b[0mInterval\u001b[0m\u001b[1;33m\u001b[0m\u001b[1;33m\u001b[0m\u001b[0m\n\u001b[0m\u001b[0;32m     14\u001b[0m from pandas._libs.tslibs import (\n\u001b[0;32m     15\u001b[0m     \u001b[0mNaT\u001b[0m\u001b[1;33m,\u001b[0m\u001b[1;33m\u001b[0m\u001b[1;33m\u001b[0m\u001b[0m\n",
      "\u001b[1;32mD:\\Users\\dell\\anaconda3\\lib\\site-packages\\pandas\\_libs\\interval.pyx\u001b[0m in \u001b[0;36minit pandas._libs.interval\u001b[1;34m()\u001b[0m\n",
      "\u001b[1;31mValueError\u001b[0m: numpy.dtype size changed, may indicate binary incompatibility. Expected 96 from C header, got 88 from PyObject"
     ]
    }
   ],
   "source": [
    "from statsbombpy import sb\n",
    "import pandas as pd\n",
    "import matplotlib.pyplot as plt\n",
    "from mplsoccer import Pitch, FontManager\n",
    "\n",
    "# Load the matches data for the specified competition and season\n",
    "Matches = sb.matches(competition_id=55, season_id=82)\n",
    "\n",
    "# Filter matches to find Spain's matches\n",
    "Spain_Matches = Matches[(Matches['home_team'] == 'Spain') | (Matches['away_team'] == 'Spain')]\n",
    "\n",
    "# Select a specific match by match_id (assuming we know the match_id or can pick one from Spain_Matches)\n",
    "match_id = 3943043  # Replace with the actual match_id of interest\n",
    "\n",
    "# Load the lineup data for the specific match\n",
    "lineups = sb.lineups(match_id=match_id)\n",
    "Spain_Lineup = lineups[\"Spain\"]\n",
    "\n",
    "# Load the event data for the specific match\n",
    "match_events = sb.events(match_id=match_id)\n"
   ]
  },
  {
   "cell_type": "code",
   "execution_count": null,
   "id": "030f0f41",
   "metadata": {},
   "outputs": [],
   "source": []
  }
 ],
 "metadata": {
  "kernelspec": {
   "display_name": "Python 3 (ipykernel)",
   "language": "python",
   "name": "python3"
  },
  "language_info": {
   "codemirror_mode": {
    "name": "ipython",
    "version": 3
   },
   "file_extension": ".py",
   "mimetype": "text/x-python",
   "name": "python",
   "nbconvert_exporter": "python",
   "pygments_lexer": "ipython3",
   "version": "3.9.7"
  }
 },
 "nbformat": 4,
 "nbformat_minor": 5
}
