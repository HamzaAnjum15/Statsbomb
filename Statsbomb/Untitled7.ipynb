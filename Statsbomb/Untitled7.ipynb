{
 "cells": [
  {
   "cell_type": "code",
   "execution_count": 6,
   "id": "18c3ff7f",
   "metadata": {},
   "outputs": [
    {
     "name": "stdout",
     "output_type": "stream",
     "text": [
      "Requirement already satisfied: matplotlib==3.4.3 in d:\\users\\dell\\anaconda3\\lib\\site-packages (3.4.3)\n",
      "Requirement already satisfied: kiwisolver>=1.0.1 in d:\\users\\dell\\anaconda3\\lib\\site-packages (from matplotlib==3.4.3) (1.3.1)\n",
      "Requirement already satisfied: python-dateutil>=2.7 in d:\\users\\dell\\anaconda3\\lib\\site-packages (from matplotlib==3.4.3) (2.8.2)\n",
      "Requirement already satisfied: pyparsing>=2.2.1 in d:\\users\\dell\\anaconda3\\lib\\site-packages (from matplotlib==3.4.3) (3.0.4)\n",
      "Requirement already satisfied: pillow>=6.2.0 in d:\\users\\dell\\anaconda3\\lib\\site-packages (from matplotlib==3.4.3) (8.4.0)\n",
      "Requirement already satisfied: cycler>=0.10 in d:\\users\\dell\\anaconda3\\lib\\site-packages (from matplotlib==3.4.3) (0.10.0)\n",
      "Requirement already satisfied: numpy>=1.16 in d:\\users\\dell\\anaconda3\\lib\\site-packages (from matplotlib==3.4.3) (1.24.3)\n",
      "Requirement already satisfied: six in d:\\users\\dell\\anaconda3\\lib\\site-packages (from cycler>=0.10->matplotlib==3.4.3) (1.16.0)\n"
     ]
    }
   ],
   "source": [
    "!pip install matplotlib==3.4.3\n"
   ]
  },
  {
   "cell_type": "code",
   "execution_count": 8,
   "id": "e1632cc3",
   "metadata": {},
   "outputs": [
    {
     "name": "stdout",
     "output_type": "stream",
     "text": [
      "Collecting mplsoccer==1.0.3\n",
      "  Downloading mplsoccer-1.0.3.tar.gz (57 kB)\n",
      "Requirement already satisfied: matplotlib in d:\\users\\dell\\anaconda3\\lib\\site-packages (from mplsoccer==1.0.3) (3.4.3)\n",
      "Requirement already satisfied: seaborn in d:\\users\\dell\\anaconda3\\lib\\site-packages (from mplsoccer==1.0.3) (0.11.2)\n",
      "Requirement already satisfied: scipy in d:\\users\\dell\\anaconda3\\lib\\site-packages (from mplsoccer==1.0.3) (1.13.1)\n",
      "Requirement already satisfied: pandas in d:\\users\\dell\\anaconda3\\lib\\site-packages (from mplsoccer==1.0.3) (2.2.2)\n",
      "Requirement already satisfied: pillow in d:\\users\\dell\\anaconda3\\lib\\site-packages (from mplsoccer==1.0.3) (8.4.0)\n",
      "Requirement already satisfied: numpy in d:\\users\\dell\\anaconda3\\lib\\site-packages (from mplsoccer==1.0.3) (1.24.3)\n",
      "Requirement already satisfied: beautifulsoup4 in d:\\users\\dell\\anaconda3\\lib\\site-packages (from mplsoccer==1.0.3) (4.10.0)\n",
      "Requirement already satisfied: soupsieve>1.2 in d:\\users\\dell\\anaconda3\\lib\\site-packages (from beautifulsoup4->mplsoccer==1.0.3) (2.2.1)\n",
      "Requirement already satisfied: python-dateutil>=2.7 in d:\\users\\dell\\anaconda3\\lib\\site-packages (from matplotlib->mplsoccer==1.0.3) (2.8.2)\n",
      "Requirement already satisfied: pyparsing>=2.2.1 in d:\\users\\dell\\anaconda3\\lib\\site-packages (from matplotlib->mplsoccer==1.0.3) (3.0.4)\n",
      "Requirement already satisfied: kiwisolver>=1.0.1 in d:\\users\\dell\\anaconda3\\lib\\site-packages (from matplotlib->mplsoccer==1.0.3) (1.3.1)\n",
      "Requirement already satisfied: cycler>=0.10 in d:\\users\\dell\\anaconda3\\lib\\site-packages (from matplotlib->mplsoccer==1.0.3) (0.10.0)\n",
      "Requirement already satisfied: six in d:\\users\\dell\\anaconda3\\lib\\site-packages (from cycler>=0.10->matplotlib->mplsoccer==1.0.3) (1.16.0)\n",
      "Requirement already satisfied: pytz>=2020.1 in d:\\users\\dell\\anaconda3\\lib\\site-packages (from pandas->mplsoccer==1.0.3) (2021.3)\n",
      "Requirement already satisfied: tzdata>=2022.7 in d:\\users\\dell\\anaconda3\\lib\\site-packages (from pandas->mplsoccer==1.0.3) (2024.1)\n",
      "Building wheels for collected packages: mplsoccer\n",
      "  Building wheel for mplsoccer (setup.py): started\n",
      "  Building wheel for mplsoccer (setup.py): finished with status 'done'\n",
      "  Created wheel for mplsoccer: filename=mplsoccer-1.0.3-py3-none-any.whl size=62544 sha256=2ac19b3328c7af18fba64c42b93a1add2475aec83ad8631bec5434fcdbd08d25\n",
      "  Stored in directory: c:\\users\\dell\\appdata\\local\\pip\\cache\\wheels\\02\\86\\ae\\b3cb006b5aa59447ca7ec4475f8d9a000d39436ad961482081\n",
      "Successfully built mplsoccer\n",
      "Installing collected packages: mplsoccer\n",
      "  Attempting uninstall: mplsoccer\n",
      "    Found existing installation: mplsoccer 1.3.0\n",
      "    Uninstalling mplsoccer-1.3.0:\n",
      "      Successfully uninstalled mplsoccer-1.3.0\n",
      "Successfully installed mplsoccer-1.0.3\n"
     ]
    }
   ],
   "source": [
    "!pip install mplsoccer==1.0.3\n"
   ]
  },
  {
   "cell_type": "code",
   "execution_count": 9,
   "id": "fedfdfc8",
   "metadata": {},
   "outputs": [
    {
     "name": "stdout",
     "output_type": "stream",
     "text": [
      "matplotlib version: 3.4.3\n",
      "mplsoccer version: 1.0.3\n"
     ]
    }
   ],
   "source": [
    "import matplotlib\n",
    "import mplsoccer\n",
    "\n",
    "print(\"matplotlib version:\", matplotlib.__version__)\n",
    "print(\"mplsoccer version:\", mplsoccer.__version__)\n"
   ]
  },
  {
   "cell_type": "code",
   "execution_count": 10,
   "id": "be52a6c3",
   "metadata": {},
   "outputs": [
    {
     "data": {
      "image/png": "[encoded data removed]",
      "text/plain": [
       "<Figure size 432x288 with 1 Axes>"
      ]
     },
     "metadata": {},
     "output_type": "display_data"
    }
   ],
   "source": [
    "import matplotlib.pyplot as plt\n",
    "from mplsoccer import Pitch\n",
    "\n",
    "pitch = Pitch(line_zorder=2)\n",
    "fig, ax = pitch.draw()\n",
    "plt.show()"
   ]
  }
 ],
 "metadata": {
  "kernelspec": {
   "display_name": "Python 3 (ipykernel)",
   "language": "python",
   "name": "python3"
  },
  "language_info": {
   "codemirror_mode": {
    "name": "ipython",
    "version": 3
   },
   "file_extension": ".py",
   "mimetype": "text/x-python",
   "name": "python",
   "nbconvert_exporter": "python",
   "pygments_lexer": "ipython3",
   "version": "3.9.7"
  }
 },
 "nbformat": 4,
 "nbformat_minor": 5
}
